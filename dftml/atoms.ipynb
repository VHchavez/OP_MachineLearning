{
 "cells": [
  {
   "cell_type": "code",
   "execution_count": 1,
   "metadata": {},
   "outputs": [],
   "source": [
    "import psi4\n",
    "import numpy as np\n",
    "import pandas as pd"
   ]
  },
  {
   "cell_type": "markdown",
   "metadata": {},
   "source": [
    "## Obtain the energy of all the 24 open sp-shell atoms with atomic number Z < 36"
   ]
  },
  {
   "cell_type": "code",
   "execution_count": 3,
   "metadata": {},
   "outputs": [
    {
     "data": {
      "text/plain": [
       "15"
      ]
     },
     "execution_count": 3,
     "metadata": {},
     "output_type": "execute_result"
    }
   ],
   "source": [
    "atoms_list = ['H', 'Li', 'Be', 'B', 'C', 'N', 'O', 'F', 'Na', 'Mg','Al', 'Si', 'P', 'S', 'Cl']\n",
    "atom_index = [1, 3, 4, 5, 6, 7, 8, 9, 11, 12, 13, 14, 15, 16, 17 ]\n",
    "\n",
    "atoms = np.array(atoms_list)\n",
    "z = np.linspace(1, 21, 21)\n",
    "len(atoms_list)"
   ]
  },
  {
   "cell_type": "code",
   "execution_count": 4,
   "metadata": {},
   "outputs": [],
   "source": [
    "#Defines inputs based on spin multiplicity\n",
    "\n",
    "even_sm = \"\"\"\n",
    "0 1\n",
    "\n",
    "**specie** 0.0 0.0 0.0 \n",
    "\n",
    "\"\"\" \n",
    "\n",
    "odd_sm = \"\"\"\n",
    "0 2\n",
    "\n",
    "**specie** 0.0 0.0 0.0\n",
    "\n",
    "\"\"\"\n",
    "\n",
    "atoms = {'z':[], 'atoms':[], 'ccsdt':[], 'hf':[], 'dft':[]}\n",
    "\n"
   ]
  },
  {
   "cell_type": "code",
   "execution_count": 5,
   "metadata": {},
   "outputs": [],
   "source": [
    "## Setting up Psi 4 for calculations\n",
    "\n",
    "psi4.set_options({'reference' : 'uhf',\n",
    "                  'guess' : 'gwh',\n",
    "                  'dft_spherical_points' : 590, \n",
    "                  'dft_radial_points' : 99, \n",
    "                  'MAXITER'   :  500})"
   ]
  },
  {
   "cell_type": "code",
   "execution_count": null,
   "metadata": {},
   "outputs": [],
   "source": [
    "#Obtains energies. \n",
    "\n",
    "psi4.core.clean()     \n",
    "for i, specie in enumerate(atoms_list,start=0):\n",
    "    \n",
    "    print(F'Now Calculating {specie} with index {i}')\n",
    "    \n",
    "    \n",
    "    if atom_index[i] % 2 == 0:    \n",
    "    \n",
    "        mol = psi4.geometry(even_sm.replace('**specie**', str(specie)))\n",
    "        en_ccsdt = psi4.energy('ccsd(t)/6-311G(d)', molecule=mol, units='Hartree')\n",
    "        en_hf = psi4.energy('hf/6-311G(d)', molecule=mol, units='Hartree')\n",
    "        en_dft = psi4.energy('svwn/6-311G(d)', molecule=mol, units='Hartree')\n",
    "        atoms[\"z\"].append(i)\n",
    "        atoms[\"atoms\"].append(specie)\n",
    "        atoms[\"ccsdt\"].append(en_ccsdt)\n",
    "        atoms[\"hf\"].append(en_hf)\n",
    "        atoms[\"dft\"].append(en_dft)\n",
    "\n",
    "\n",
    "    elif atom_index[i] % 2 != 0: \n",
    "        \n",
    "        psi4.set_options({'reference' : 'uhf',\n",
    "                  'guess' : 'gwh',\n",
    "                  'dft_spherical_points' : 590, \n",
    "                  'dft_radial_points' : 99, \n",
    "                  'MAXITER'   :  500})\n",
    "        \n",
    "        mol = psi4.geometry(odd_sm.replace('**specie**', str(specie)))\n",
    "        en_ccsdt = psi4.energy('ccsd(t)/6-311G(d)', molecule=mol, units='Hartree')\n",
    "        en_hf = psi4.energy('hf/6-311G(d)', molecule=mol, units='Hartree')\n",
    "        en_dft = psi4.energy('svwn/6-311G(d)', molecule=mol, units='Hartree')\n",
    "        atoms[\"z\"].append(i)\n",
    "        atoms[\"atoms\"].append(specie)\n",
    "        atoms[\"ccsdt\"].append(en_ccsdt)\n",
    "        atoms[\"hf\"].append(en_hf)\n",
    "        atoms[\"dft\"].append(en_dft)\n",
    "        \n",
    "    \n",
    "    psi4.core.clean() \n",
    "\n",
    "print(\"Finished!\")"
   ]
  },
  {
   "cell_type": "code",
   "execution_count": null,
   "metadata": {},
   "outputs": [],
   "source": [
    "#Transform into a pandas dataframe and save as csv file. \n",
    "\n",
    "atoms_pd = pd.DataFrame(atoms)\n",
    "atoms_pd.to_csv(r'./atoms.csv',sep=',')"
   ]
  }
 ],
 "metadata": {
  "kernelspec": {
   "display_name": "Python 3",
   "language": "python",
   "name": "python3"
  },
  "language_info": {
   "codemirror_mode": {
    "name": "ipython",
    "version": 3
   },
   "file_extension": ".py",
   "mimetype": "text/x-python",
   "name": "python",
   "nbconvert_exporter": "python",
   "pygments_lexer": "ipython3",
   "version": "3.7.3"
  }
 },
 "nbformat": 4,
 "nbformat_minor": 2
}
